{
 "cells": [
  {
   "attachments": {},
   "cell_type": "markdown",
   "metadata": {},
   "source": [
    "Q1\n",
    "\n",
    "To perform a matrix multiplication between a (n, k) and (k, m) matrix, we need to perform k multiplications for each element in the resulting matrix. We know that the number of elements in the resulting matrix are n * m. Thus, we need to perform a total of n * k * m multiplications. \n",
    "\n",
    "Also, we need to perform (k-1) additions to sum the products and compute the elements of resulting matrix and there are total n * m elements, so a total of n * (k-1) * m additions need to be performed.\n",
    "\n",
    "For example, if matrix A has dimensions (3, 4) and matrix B has dimensions (4, 2), then we need to perform 3 * 4 * 2 = 24 multiplications and 3 * 3 * 2 = 18 additions to compute the matrix multiplication of matrices A and B."
   ]
  },
  {
   "cell_type": "markdown",
   "metadata": {},
   "source": [
    "Q2"
   ]
  },
  {
   "cell_type": "code",
   "execution_count": 45,
   "metadata": {},
   "outputs": [],
   "source": [
    "# Python code to multiply the two matrices of (n, k) and (l, m) dimensions using list of lists and numpy\n",
    "import numpy as np\n",
    "\n",
    "def myMatrixMultiplier(A, B):\n",
    "\n",
    "    n = len(A)\n",
    "    k = len(A[0])\n",
    "    l = len(B)\n",
    "    m = len(B[0])\n",
    "\n",
    "    \n",
    "    if k != l:\n",
    "        print(\"Matrix dimensions are not compatible for matrix multiplication!\")\n",
    "\n",
    "    else :\n",
    "        answer = [[0 for x in range(m)] for y in range(n)]\n",
    "\n",
    "        for i in range(n):\n",
    "            for j in range(m):\n",
    "                for o in range(l):\n",
    "                    answer[i][j] = answer[i][j] + (A[i][o] * B[o][j])\n",
    "\n",
    "        return answer\n",
    "\n",
    "def numpyMatrixMultiplier(C, D):\n",
    "\n",
    "    ans = np.dot(C, D)\n",
    "    return ans"
   ]
  },
  {
   "cell_type": "code",
   "execution_count": 37,
   "metadata": {},
   "outputs": [
    {
     "name": "stdout",
     "output_type": "stream",
     "text": [
      "Average time for list of lists method: 4.224885597229004 seconds\n",
      "Standard Deviation in time for list of lists method: 1.3385850008795095 seconds\n",
      "Average time for numpy method: 0.046469297409057614 seconds\n",
      "Standard Deviation in time for numpy method: 0.01913462809747541 seconds\n"
     ]
    }
   ],
   "source": [
    "# Python code to compare timing for both solutions\n",
    "import random\n",
    "import time\n",
    "import numpy as np\n",
    "\n",
    "total_time_list = 0.0\n",
    "sq_total_time_list = 0.0\n",
    "total_time_np = 0.0\n",
    "sq_total_time_np = 0.0\n",
    "\n",
    "for n in range(50):\n",
    "\n",
    "    random.seed(0)\n",
    "    matrix1 = [[random.randint(1, 10) for j in range(500)] for i in range(100)]\n",
    "    random.seed(1)\n",
    "    matrix2 = [[random.randint(1, 10) for j in range(250)] for i in range(500)]\n",
    "\n",
    "    start_time = time.time()\n",
    "    result_list = myMatrixMultiplier(matrix1, matrix2)\n",
    "    total_time_list = total_time_list + time.time() - start_time\n",
    "    sq_total_time_list = sq_total_time_list + (time.time() - start_time)**2\n",
    "\n",
    "    start_time = time.time()\n",
    "    result_np = numpyMatrixMultiplier(matrix1, matrix2)\n",
    "    total_time_np = total_time_np + time.time() - start_time\n",
    "    sq_total_time_np = sq_total_time_np + (time.time() - start_time)**2\n",
    "\n",
    "print(f\"Average time for list of lists method: {total_time_list/50} seconds\")\n",
    "print(f\"Standard Deviation in time for list of lists method: {((sq_total_time_list/50) - ((total_time_list/50)**2))**(1/2)} seconds\")\n",
    "print(f\"Average time for numpy method: {total_time_np/50} seconds\")\n",
    "print(f\"Standard Deviation in time for numpy method: {((sq_total_time_np/50) - ((total_time_np/50)**2))**(1/2)} seconds\")\n",
    "\n"
   ]
  },
  {
   "attachments": {},
   "cell_type": "markdown",
   "metadata": {},
   "source": [
    "Clearly, the matrix multiplication performed using numpy is faster when dimension of the matrices is large as it uses vectorization to evaluate the result while the list of lists method has 3 nested for loops which takes significantly more time to evaluate the result."
   ]
  },
  {
   "attachments": {},
   "cell_type": "markdown",
   "metadata": {},
   "source": [
    "Q3\n",
    "\n",
    "Using the method suggested in the question, the time complexity of finding the median of the array will be O($n^2$) as we need to find the $(n//2 + 1)^{th}$ highest number in the array, in order to find the median if the size of the array is odd, which will take $n/2$ passes of the array. If the array size is even, we need to find the $(n//2)^{th}$ and $(n//2 + 1)^{th}$ highest number in the array which will also be of time complexity O($n^2$).\n",
    "\n",
    "A better method would be to sort the array and find the middle element of the sorted array if the array size is odd or find the $(n//2)^{th}$ and $(n//2 + 1)^{th}$ element of the sorted array if the array size is even. This method will be of time complexity O($n\\times log(n)$)."
   ]
  },
  {
   "cell_type": "code",
   "execution_count": 38,
   "metadata": {},
   "outputs": [],
   "source": [
    "import numpy as np\n",
    "\n",
    "# Computing median using suggested method in the question\n",
    "def computeMedian(arr):\n",
    "\n",
    "    arr1 = arr.copy()\n",
    "    n = len(arr1)\n",
    "    m = n//2\n",
    "\n",
    "    if n%2 != 0:\n",
    "        for i in range(m+1):\n",
    "            p = len(arr1)\n",
    "            x = arr1[0]\n",
    "            for j in range(p):\n",
    "                if arr1[j] > x:\n",
    "                    x = arr1[j]\n",
    "            arr1.remove(x)\n",
    "        return x\n",
    "    else :\n",
    "        for i in range(m):\n",
    "            p = len(arr1)\n",
    "            x = arr1[0]\n",
    "            for j in range(p):\n",
    "                if arr1[j] > x:\n",
    "                    x = arr1[j]\n",
    "            arr1.remove(x)\n",
    "        a = x\n",
    "        p = len(arr1)\n",
    "        y = arr1[0]\n",
    "        for j in range(p):\n",
    "            if arr1[j] > y:\n",
    "                y = arr1[j]\n",
    "        return (a+y)/2\n",
    "\n",
    "\n",
    "# Computing median using better method than the one suggested in the question\n",
    "def betterComputeMedian(arr):\n",
    "\n",
    "    arr1 = sorted(arr)\n",
    "    n = len(arr1)\n",
    "\n",
    "    if n%2 == 0:\n",
    "        return (arr1[(n//2)-1]+arr1[n//2])/2\n",
    "    else:\n",
    "        return arr1[n//2]\n",
    "\n",
    "# Computing median using numpy\n",
    "def numpyComputeMedian(arr):\n",
    "\n",
    "    return np.median(arr)\n"
   ]
  },
  {
   "cell_type": "code",
   "execution_count": 39,
   "metadata": {},
   "outputs": [
    {
     "name": "stdout",
     "output_type": "stream",
     "text": [
      "Average time for suggested method: 0.050171767234802246 seconds\n",
      "Standard Deviation in time for suggested method: 0.016836019564849293 seconds\n",
      "Average time for better method: 0.00025443363189697266 seconds\n",
      "Standard Deviation in time for better method: 0.0011057759209264534 seconds\n",
      "Average time for numpy method: 0.00040832972526550295 seconds\n",
      "Standard Deviation in time for numpy method: 0.001415031835992471 seconds\n"
     ]
    }
   ],
   "source": [
    "# Python code to compare timing\n",
    "import random\n",
    "import time\n",
    "import numpy as np\n",
    "\n",
    "total_time_median = 0.0\n",
    "sq_total_time_median = 0.0\n",
    "total_time_better = 0.0\n",
    "sq_total_time_better = 0.0\n",
    "total_time_np = 0.0\n",
    "sq_total_time_np = 0.0\n",
    "\n",
    "for n in range(1000):\n",
    "\n",
    "    random.seed(0)\n",
    "    list = [random.randint(1, 100) for j in range(1000)]\n",
    "\n",
    "    start_time = time.time()\n",
    "    result_median = computeMedian(list)\n",
    "    total_time_median = total_time_median + time.time() - start_time\n",
    "    sq_total_time_median = sq_total_time_median + (time.time() - start_time)**2\n",
    "\n",
    "    start_time = time.time()\n",
    "    result_better = betterComputeMedian(list)\n",
    "    total_time_better = total_time_better + time.time() - start_time\n",
    "    sq_total_time_better = sq_total_time_better + (time.time() - start_time)**2\n",
    "\n",
    "    start_time = time.time()\n",
    "    result_np = numpyComputeMedian(list)\n",
    "    total_time_np = total_time_np + time.time() - start_time\n",
    "    sq_total_time_np = sq_total_time_np + (time.time() - start_time)**2\n",
    "\n",
    "print(f\"Average time for suggested method: {total_time_median/1000} seconds\")\n",
    "print(f\"Standard Deviation in time for suggested method: {((sq_total_time_median/1000) - ((total_time_median/1000)**2))**(1/2)} seconds\")\n",
    "print(f\"Average time for better method: {total_time_better/1000} seconds\")\n",
    "print(f\"Standard Deviation in time for better method: {((sq_total_time_better/1000) - ((total_time_better/1000)**2))**(1/2)} seconds\")\n",
    "print(f\"Average time for numpy method: {total_time_np/1000} seconds\")\n",
    "print(f\"Standard Deviation in time for numpy method: {((sq_total_time_np/1000) - ((total_time_np/1000)**2))**(1/2)} seconds\")"
   ]
  },
  {
   "attachments": {},
   "cell_type": "markdown",
   "metadata": {},
   "source": [
    "We can see that the time for better method is less than the method using numpy which in turn is lesser than the method in the question."
   ]
  },
  {
   "attachments": {},
   "cell_type": "markdown",
   "metadata": {},
   "source": [
    "Q4\n",
    "\n",
    "We know that the gradient of any function f(x,y) with respect to (x, y) is ($\\frac {\\partial f(x,y)} {\\partial x}$, $\\frac {\\partial f(x,y)} {\\partial y}$)\n",
    "\n",
    "Thus, the gradient of the given function with respect to x is: $2xy+y^3cos(x)$\n",
    "\n",
    "Thus, the gradient of the given function with respect to y is: $x^2+3y^2sin(x)$ "
   ]
  },
  {
   "attachments": {},
   "cell_type": "markdown",
   "metadata": {},
   "source": [
    "Q5"
   ]
  },
  {
   "cell_type": "code",
   "execution_count": null,
   "metadata": {},
   "outputs": [],
   "source": [
    "# Computing the gradient of f with respect to x and y using JAX \n",
    "# to confirm the gradient evaluated by our method matches the analytical solution corresponding to a few random values of x and y\n",
    "import jax\n",
    "import jax.numpy as jnp\n",
    "import numpy as np\n",
    "\n",
    "def f(X):\n",
    "  x = X[0]\n",
    "  y = X[1]\n",
    "  return (x**2)*y + ((y**3)*jnp.sin(x))\n",
    "\n",
    "def gradient_f(x, y):\n",
    "  return 2*x*y + ((y**3)*np.cos(x)), x**2 + (3*(y**2)*np.sin(x))\n",
    "\n",
    "for i in range(10):\n",
    "  x = np.random.rand()\n",
    "  y = np.random.rand()\n",
    "\n",
    "  # Computimg the gradient of f(x, y) numerically using JAX\n",
    "  grad_f = jax.grad(f)\n",
    "  jax_gradient = grad_f(jnp.array([x, y]))\n",
    "\n",
    "  # Computimg the gradient of f(x, y) analytically\n",
    "  analytic_gradient = gradient_f(x, y)\n",
    "\n",
    "  print(\"JAX Gradient:\", jax_gradient)\n",
    "  print(\"Explicit Gradient:\", analytic_gradient)"
   ]
  },
  {
   "attachments": {},
   "cell_type": "markdown",
   "metadata": {},
   "source": [
    "Q6"
   ]
  },
  {
   "cell_type": "code",
   "execution_count": null,
   "metadata": {},
   "outputs": [],
   "source": [
    "# Computing the gradient of f with respect to x and y using SymPy\n",
    "import sympy\n",
    "\n",
    "x, y = sympy.symbols('x y')\n",
    "f = (x**2)*y + ((y**3)*sympy.sin(x))\n",
    "\n",
    "sympy.diff(f, x), sympy.diff(f, y)\n"
   ]
  },
  {
   "attachments": {},
   "cell_type": "markdown",
   "metadata": {},
   "source": [
    "Q7"
   ]
  },
  {
   "cell_type": "code",
   "execution_count": null,
   "metadata": {},
   "outputs": [],
   "source": [
    "# Creating nested dictionary to represent hierarchical information\n",
    "Dictionary = { \n",
    "    2022: {\n",
    "        'Branch 1': {\n",
    "            'Roll Number':1, \n",
    "            'Name':'N', \n",
    "            'Marks': {\n",
    "                'Maths':100, 'English':70\n",
    "            }\n",
    "        },\n",
    "        'Branch 2':{}\n",
    "    },\n",
    "    2023: {\n",
    "        'Branch 1': {},\n",
    "        'Branch 2': {}\n",
    "    },\n",
    "    2024: {\n",
    "        'Branch 1': {},\n",
    "        'Branch 2': {}\n",
    "    },\n",
    "    2025: {\n",
    "        'Branch 1': {},\n",
    "        'Branch 2': {}\n",
    "    },\n",
    "}\n",
    "\n",
    "print(Dictionary)\n",
    "    "
   ]
  },
  {
   "attachments": {},
   "cell_type": "markdown",
   "metadata": {},
   "source": [
    "Q8"
   ]
  },
  {
   "cell_type": "code",
   "execution_count": 46,
   "metadata": {},
   "outputs": [],
   "source": [
    "\n",
    "class Student:\n",
    "    def __init__(self, roll_number, name, marks):\n",
    "        self.roll_number = roll_number\n",
    "        self.name = name\n",
    "        self.marks = marks\n",
    "\n",
    "class Branch:\n",
    "    def __init__(self, branch, students):\n",
    "        self.branch = branch\n",
    "        self.students = students\n",
    "\n",
    "class Year:\n",
    "    def __init__(self, year, branches):\n",
    "        self.year = year\n",
    "        self.branches = branches\n",
    "\n",
    "database = [\n",
    "    Year(2022, [Branch('Branch 1', [Student(1, \"N\", {\"Maths\": 100,\"English\": 70})]), Branch('Branch 2', [])]),\n",
    "    Year(2023, [Branch('Branch 1', []), Branch('Branch 2', [])]),\n",
    "    Year(2024, [Branch('Branch 1', []), Branch('Branch 2', [])]),\n",
    "    Year(2025, [Branch('Branch 1', []), Branch('Branch 2', [])])\n",
    "]\n",
    "\n",
    "# print(database[0].branches[0].students[0].name)\n",
    "\n"
   ]
  },
  {
   "cell_type": "markdown",
   "metadata": {},
   "source": [
    "Q9"
   ]
  },
  {
   "cell_type": "code",
   "execution_count": null,
   "metadata": {},
   "outputs": [],
   "source": [
    "# Code for plotting the given functions using matplotlib\n",
    "\n",
    "import matplotlib.pyplot as plt\n",
    "import numpy as np\n",
    "\n",
    "x = np.arange(0.5, 100.5, 0.5)\n",
    "\n",
    "#1\n",
    "y = x\n",
    "plt.plot(x, y)\n",
    "plt.show()\n",
    "\n",
    "#2\n",
    "y = x**2\n",
    "plt.plot(x, y)\n",
    "plt.show()\n",
    "\n",
    "#3\n",
    "y = (x**3)/100\n",
    "plt.plot(x, y)\n",
    "plt.show()\n",
    "\n",
    "#4\n",
    "y = np.sin(x)\n",
    "plt.plot(x, y)\n",
    "plt.show()\n",
    "\n",
    "#5\n",
    "y = (np.sin(x))/x\n",
    "plt.plot(x, y)\n",
    "plt.show()\n",
    "\n",
    "#6\n",
    "y = np.log(x)\n",
    "plt.plot(x, y)\n",
    "plt.show()\n",
    "\n",
    "#7\n",
    "y = np.exp(x)\n",
    "plt.plot(x, y)\n",
    "plt.show()"
   ]
  },
  {
   "attachments": {},
   "cell_type": "markdown",
   "metadata": {},
   "source": [
    "Q10"
   ]
  },
  {
   "cell_type": "code",
   "execution_count": null,
   "metadata": {},
   "outputs": [],
   "source": [
    "import numpy as np\n",
    "import pandas as pd\n",
    "\n",
    "mat = np.random.uniform(1, 2, size = (20, 5))\n",
    "\n",
    "dataframe = pd.DataFrame(mat, columns = [\"a\", \"b\", \"c\", \"d\", \"e\"])\n",
    "\n",
    "highest_std_dev = dataframe.std(axis = 0).idxmax()\n",
    "lowest_mean = dataframe.mean(axis = 1).idxmin()\n",
    "\n",
    "print(\"Col with highest standard deviation: \", highest_std_dev)\n",
    "print(\"Row with lowest mean: \", lowest_mean)"
   ]
  },
  {
   "attachments": {},
   "cell_type": "markdown",
   "metadata": {},
   "source": [
    "Q11"
   ]
  },
  {
   "cell_type": "code",
   "execution_count": null,
   "metadata": {},
   "outputs": [],
   "source": [
    "dataframe[\"f\"] = dataframe[\"a\"] + dataframe[\"b\"] + dataframe[\"c\"] + dataframe[\"d\"] + dataframe[\"e\"]\n",
    "dataframe[\"g\"] = \" \"\n",
    "\n",
    "lessthan = 0.0\n",
    "sq_lessthan = 0.0\n",
    "greaterthan = 0.0\n",
    "sq_greaterthan = 0.0\n",
    "count1 = 0\n",
    "count2 = 0\n",
    "\n",
    "for i in range(20):\n",
    "    if dataframe[\"f\"][i] < 8:\n",
    "        dataframe[\"g\"][i] = \"LT8\"\n",
    "        lessthan = lessthan + dataframe[\"f\"][i]\n",
    "        sq_lessthan = sq_lessthan + (dataframe[\"f\"][i])**2\n",
    "        count1 = count1 + 1\n",
    "    else :\n",
    "        dataframe[\"g\"][i] = \"GT8\"\n",
    "        greaterthan = greaterthan + dataframe[\"f\"][i]\n",
    "        sq_greaterthan = sq_greaterthan + (dataframe[\"f\"][i])**2\n",
    "        count2 = count2 + 1\n",
    "\n",
    "std_lessthan = ((sq_lessthan/count1) - ((lessthan/count1)**2))**(1/2)\n",
    "std_greaterthan = ((sq_greaterthan/count2) - ((greaterthan/count2)**2))**(1/2)\n",
    "\n",
    "print(f\"Standard Deviation for LT8: {std_lessthan}\")\n",
    "print(f\"Standard Deviation for GT8: {std_greaterthan}\")"
   ]
  },
  {
   "attachments": {},
   "cell_type": "markdown",
   "metadata": {},
   "source": [
    "Q12"
   ]
  },
  {
   "cell_type": "code",
   "execution_count": null,
   "metadata": {},
   "outputs": [],
   "source": [
    "import numpy as np\n",
    "\n",
    "test = np.random.randint(10, size = (3, 4))\n",
    "\n",
    "# Adding a scalar to an numpy array showing that it broadcasts the scalar and computes the result\n",
    "result = test + 3\n",
    "\n",
    "print(test)\n",
    "print(result)  "
   ]
  },
  {
   "attachments": {},
   "cell_type": "markdown",
   "metadata": {},
   "source": [
    "Q13"
   ]
  },
  {
   "cell_type": "code",
   "execution_count": null,
   "metadata": {},
   "outputs": [],
   "source": [
    "import numpy as np\n",
    "\n",
    "# Function to compute argmin of a numpy array\n",
    "def computeargmin(arr):\n",
    "    \n",
    "    arr1 = arr.copy()\n",
    "    min = arr1[0]\n",
    "\n",
    "    for i in range(len(arr1)):\n",
    "        if arr1[i] < min:\n",
    "            min = arr1[i]\n",
    "            idx = i\n",
    "\n",
    "    return idx\n",
    "\n",
    "test = np.random.randint(100, size = (100,))\n",
    "print(computeargmin(test))\n",
    "print(np.argmin(test))"
   ]
  }
 ],
 "metadata": {
  "kernelspec": {
   "display_name": "Python 3.7.9 64-bit",
   "language": "python",
   "name": "python3"
  },
  "language_info": {
   "codemirror_mode": {
    "name": "ipython",
    "version": 3
   },
   "file_extension": ".py",
   "mimetype": "text/x-python",
   "name": "python",
   "nbconvert_exporter": "python",
   "pygments_lexer": "ipython3",
   "version": "3.7.9 (tags/v3.7.9:13c94747c7, Aug 17 2020, 18:58:18) [MSC v.1900 64 bit (AMD64)]"
  },
  "orig_nbformat": 4,
  "vscode": {
   "interpreter": {
    "hash": "356734b0b4e05b3af569ed06eb258f6ef66038e7268c6bdbb97ecd1a1c609e88"
   }
  }
 },
 "nbformat": 4,
 "nbformat_minor": 2
}
